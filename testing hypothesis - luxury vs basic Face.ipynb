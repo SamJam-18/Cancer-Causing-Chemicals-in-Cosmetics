{
 "cells": [
  {
   "cell_type": "code",
   "execution_count": 105,
   "metadata": {},
   "outputs": [],
   "source": [
    "%matplotlib inline\n",
    "import pandas as pd\n",
    "import numpy as np\n",
    "import scipy as sp\n",
    "import scipy.stats as stats\n",
    "import matplotlib.pyplot as plt\n",
    "import statistics\n",
    "plt.style.use('ggplot')"
   ]
  },
  {
   "cell_type": "code",
   "execution_count": 106,
   "metadata": {},
   "outputs": [
    {
     "data": {
      "text/html": [
       "<div>\n",
       "<style scoped>\n",
       "    .dataframe tbody tr th:only-of-type {\n",
       "        vertical-align: middle;\n",
       "    }\n",
       "\n",
       "    .dataframe tbody tr th {\n",
       "        vertical-align: top;\n",
       "    }\n",
       "\n",
       "    .dataframe thead th {\n",
       "        text-align: right;\n",
       "    }\n",
       "</style>\n",
       "<table border=\"1\" class=\"dataframe\">\n",
       "  <thead>\n",
       "    <tr style=\"text-align: right;\">\n",
       "      <th></th>\n",
       "      <th>Unnamed: 0</th>\n",
       "      <th>name</th>\n",
       "      <th>mfg</th>\n",
       "      <th>num_chem</th>\n",
       "      <th>chem</th>\n",
       "      <th>price</th>\n",
       "      <th>category</th>\n",
       "    </tr>\n",
       "  </thead>\n",
       "  <tbody>\n",
       "    <tr>\n",
       "      <th>0</th>\n",
       "      <td>0</td>\n",
       "      <td>shape tape concealer</td>\n",
       "      <td>tarte</td>\n",
       "      <td>2</td>\n",
       "      <td>['fragrance', 'parfum']</td>\n",
       "      <td>27.0</td>\n",
       "      <td>Face</td>\n",
       "    </tr>\n",
       "    <tr>\n",
       "      <th>1</th>\n",
       "      <td>0</td>\n",
       "      <td>cc+ cream with spf 50+</td>\n",
       "      <td>it cosmetics</td>\n",
       "      <td>1</td>\n",
       "      <td>['steareth']</td>\n",
       "      <td>39.5</td>\n",
       "      <td>Face</td>\n",
       "    </tr>\n",
       "    <tr>\n",
       "      <th>2</th>\n",
       "      <td>0</td>\n",
       "      <td>double wear stay-in-place makeup</td>\n",
       "      <td>estée lauder</td>\n",
       "      <td>1</td>\n",
       "      <td>['laureth']</td>\n",
       "      <td>43.0</td>\n",
       "      <td>Face</td>\n",
       "    </tr>\n",
       "    <tr>\n",
       "      <th>3</th>\n",
       "      <td>0</td>\n",
       "      <td>born this way undetectable medium-to-full cove...</td>\n",
       "      <td>too faced</td>\n",
       "      <td>0</td>\n",
       "      <td>[]</td>\n",
       "      <td>39.0</td>\n",
       "      <td>Face</td>\n",
       "    </tr>\n",
       "    <tr>\n",
       "      <th>4</th>\n",
       "      <td>0</td>\n",
       "      <td>translucent loose setting powder</td>\n",
       "      <td>laura mercier</td>\n",
       "      <td>5</td>\n",
       "      <td>['methylparaben', 'propylparaben', 'ethylparab...</td>\n",
       "      <td>39.0</td>\n",
       "      <td>Face</td>\n",
       "    </tr>\n",
       "    <tr>\n",
       "      <th>...</th>\n",
       "      <td>...</td>\n",
       "      <td>...</td>\n",
       "      <td>...</td>\n",
       "      <td>...</td>\n",
       "      <td>...</td>\n",
       "      <td>...</td>\n",
       "      <td>...</td>\n",
       "    </tr>\n",
       "    <tr>\n",
       "      <th>6977</th>\n",
       "      <td>0</td>\n",
       "      <td>clear lash adhesive</td>\n",
       "      <td>house of lashes</td>\n",
       "      <td>0</td>\n",
       "      <td>[]</td>\n",
       "      <td>8.0</td>\n",
       "      <td>Eyes</td>\n",
       "    </tr>\n",
       "    <tr>\n",
       "      <th>6978</th>\n",
       "      <td>0</td>\n",
       "      <td>miami lights glitter palette</td>\n",
       "      <td>nabla</td>\n",
       "      <td>0</td>\n",
       "      <td>[]</td>\n",
       "      <td>25.0</td>\n",
       "      <td>By Category</td>\n",
       "    </tr>\n",
       "    <tr>\n",
       "      <th>6979</th>\n",
       "      <td>0</td>\n",
       "      <td>lash freak volumizing &amp; lengthening mascara</td>\n",
       "      <td>urban decay cosmetics</td>\n",
       "      <td>1</td>\n",
       "      <td>['steareth']</td>\n",
       "      <td>25.0</td>\n",
       "      <td>Eyes</td>\n",
       "    </tr>\n",
       "    <tr>\n",
       "      <th>6980</th>\n",
       "      <td>0</td>\n",
       "      <td>classic brush tip liner</td>\n",
       "      <td>ulta</td>\n",
       "      <td>0</td>\n",
       "      <td>[]</td>\n",
       "      <td>9.0</td>\n",
       "      <td>ULTA Collection</td>\n",
       "    </tr>\n",
       "    <tr>\n",
       "      <th>6981</th>\n",
       "      <td>0</td>\n",
       "      <td>forever flawless ice eyeshadow palette</td>\n",
       "      <td>makeup revolution</td>\n",
       "      <td>0</td>\n",
       "      <td>[]</td>\n",
       "      <td>15.0</td>\n",
       "      <td>Eyes</td>\n",
       "    </tr>\n",
       "  </tbody>\n",
       "</table>\n",
       "<p>6982 rows × 7 columns</p>\n",
       "</div>"
      ],
      "text/plain": [
       "      Unnamed: 0                                               name  \\\n",
       "0              0                               shape tape concealer   \n",
       "1              0                             cc+ cream with spf 50+   \n",
       "2              0                   double wear stay-in-place makeup   \n",
       "3              0  born this way undetectable medium-to-full cove...   \n",
       "4              0                   translucent loose setting powder   \n",
       "...          ...                                                ...   \n",
       "6977           0                                clear lash adhesive   \n",
       "6978           0                       miami lights glitter palette   \n",
       "6979           0        lash freak volumizing & lengthening mascara   \n",
       "6980           0                            classic brush tip liner   \n",
       "6981           0             forever flawless ice eyeshadow palette   \n",
       "\n",
       "                        mfg  num_chem  \\\n",
       "0                     tarte         2   \n",
       "1              it cosmetics         1   \n",
       "2              estée lauder         1   \n",
       "3                 too faced         0   \n",
       "4             laura mercier         5   \n",
       "...                     ...       ...   \n",
       "6977        house of lashes         0   \n",
       "6978                  nabla         0   \n",
       "6979  urban decay cosmetics         1   \n",
       "6980                   ulta         0   \n",
       "6981      makeup revolution         0   \n",
       "\n",
       "                                                   chem  price  \\\n",
       "0                               ['fragrance', 'parfum']   27.0   \n",
       "1                                          ['steareth']   39.5   \n",
       "2                                           ['laureth']   43.0   \n",
       "3                                                    []   39.0   \n",
       "4     ['methylparaben', 'propylparaben', 'ethylparab...   39.0   \n",
       "...                                                 ...    ...   \n",
       "6977                                                 []    8.0   \n",
       "6978                                                 []   25.0   \n",
       "6979                                       ['steareth']   25.0   \n",
       "6980                                                 []    9.0   \n",
       "6981                                                 []   15.0   \n",
       "\n",
       "             category  \n",
       "0                Face  \n",
       "1                Face  \n",
       "2                Face  \n",
       "3                Face  \n",
       "4                Face  \n",
       "...               ...  \n",
       "6977             Eyes  \n",
       "6978      By Category  \n",
       "6979             Eyes  \n",
       "6980  ULTA Collection  \n",
       "6981             Eyes  \n",
       "\n",
       "[6982 rows x 7 columns]"
      ]
     },
     "execution_count": 106,
     "metadata": {},
     "output_type": "execute_result"
    }
   ],
   "source": [
    "df = pd.read_csv('prod_with_chem.csv')\n",
    "df"
   ]
  },
  {
   "cell_type": "markdown",
   "metadata": {},
   "source": [
    "# hypothesis testing - chems per brand - Face\n",
    "### luxury brands will have less cancer causing chemicals per product than basic"
   ]
  },
  {
   "cell_type": "code",
   "execution_count": 107,
   "metadata": {},
   "outputs": [],
   "source": [
    "df1 = df[df['category'] == 'Face']\n"
   ]
  },
  {
   "cell_type": "code",
   "execution_count": 108,
   "metadata": {},
   "outputs": [
    {
     "data": {
      "text/html": [
       "<div>\n",
       "<style scoped>\n",
       "    .dataframe tbody tr th:only-of-type {\n",
       "        vertical-align: middle;\n",
       "    }\n",
       "\n",
       "    .dataframe tbody tr th {\n",
       "        vertical-align: top;\n",
       "    }\n",
       "\n",
       "    .dataframe thead th {\n",
       "        text-align: right;\n",
       "    }\n",
       "</style>\n",
       "<table border=\"1\" class=\"dataframe\">\n",
       "  <thead>\n",
       "    <tr style=\"text-align: right;\">\n",
       "      <th></th>\n",
       "      <th>Unnamed: 0</th>\n",
       "      <th>num_chem</th>\n",
       "      <th>price</th>\n",
       "    </tr>\n",
       "    <tr>\n",
       "      <th>mfg</th>\n",
       "      <th></th>\n",
       "      <th></th>\n",
       "      <th></th>\n",
       "    </tr>\n",
       "  </thead>\n",
       "  <tbody>\n",
       "    <tr>\n",
       "      <th>almay</th>\n",
       "      <td>0.0</td>\n",
       "      <td>1.571429</td>\n",
       "      <td>12.632857</td>\n",
       "    </tr>\n",
       "    <tr>\n",
       "      <th>amazing cosmetics</th>\n",
       "      <td>0.0</td>\n",
       "      <td>0.200000</td>\n",
       "      <td>32.800000</td>\n",
       "    </tr>\n",
       "    <tr>\n",
       "      <th>anastasia beverly hills</th>\n",
       "      <td>0.0</td>\n",
       "      <td>0.846154</td>\n",
       "      <td>27.997692</td>\n",
       "    </tr>\n",
       "    <tr>\n",
       "      <th>artnaturals luxe</th>\n",
       "      <td>0.0</td>\n",
       "      <td>0.000000</td>\n",
       "      <td>12.990000</td>\n",
       "    </tr>\n",
       "    <tr>\n",
       "      <th>au naturale</th>\n",
       "      <td>0.0</td>\n",
       "      <td>0.285714</td>\n",
       "      <td>32.000000</td>\n",
       "    </tr>\n",
       "  </tbody>\n",
       "</table>\n",
       "</div>"
      ],
      "text/plain": [
       "                         Unnamed: 0  num_chem      price\n",
       "mfg                                                     \n",
       "almay                           0.0  1.571429  12.632857\n",
       "amazing cosmetics               0.0  0.200000  32.800000\n",
       "anastasia beverly hills         0.0  0.846154  27.997692\n",
       "artnaturals luxe                0.0  0.000000  12.990000\n",
       "au naturale                     0.0  0.285714  32.000000"
      ]
     },
     "execution_count": 108,
     "metadata": {},
     "output_type": "execute_result"
    }
   ],
   "source": [
    "df1 = df1.groupby('mfg').mean()\n",
    "df1.head()"
   ]
  },
  {
   "cell_type": "markdown",
   "metadata": {},
   "source": [
    "Now we have a dataframe with only face category grouped by mfg "
   ]
  },
  {
   "cell_type": "code",
   "execution_count": 109,
   "metadata": {},
   "outputs": [
    {
     "name": "stdout",
     "output_type": "stream",
     "text": [
      "23.35109441679961\n",
      "23.0\n"
     ]
    }
   ],
   "source": [
    "x = []\n",
    "\n",
    "for num in range(len(df1['num_chem'])):\n",
    "    x.append(df1['price'].iloc[num])\n",
    "\n",
    "mean_ = (statistics.mean(x))\n",
    "median_ = (statistics.mean(x))\n",
    "print (statistics.mean(x))\n",
    "print (statistics.median(x))\n",
    "#checked to make sure that there was no significant diffrence between the two"
   ]
  },
  {
   "cell_type": "code",
   "execution_count": 110,
   "metadata": {},
   "outputs": [],
   "source": [
    "basic = pd.DataFrame()\n",
    "luxury = pd.DataFrame()\n"
   ]
  },
  {
   "cell_type": "code",
   "execution_count": 111,
   "metadata": {},
   "outputs": [],
   "source": [
    "for x in range(len(df1['price'])):\n",
    "    if df1['price'].iloc[x] >= mean_:\n",
    "        luxury = luxury.append(df1.iloc[x])\n",
    "    else:\n",
    "        basic = basic.append(df1.iloc[x])\n",
    "        "
   ]
  },
  {
   "cell_type": "code",
   "execution_count": 112,
   "metadata": {},
   "outputs": [
    {
     "data": {
      "text/plain": [
       "61"
      ]
     },
     "execution_count": 112,
     "metadata": {},
     "output_type": "execute_result"
    }
   ],
   "source": [
    "len(luxury)"
   ]
  },
  {
   "cell_type": "code",
   "execution_count": 113,
   "metadata": {},
   "outputs": [
    {
     "data": {
      "text/plain": [
       "67"
      ]
     },
     "execution_count": 113,
     "metadata": {},
     "output_type": "execute_result"
    }
   ],
   "source": [
    "len(basic)"
   ]
  },
  {
   "cell_type": "code",
   "execution_count": 114,
   "metadata": {},
   "outputs": [],
   "source": [
    "lnum = luxury['num_chem'].tolist()\n",
    "lprice = luxury['price'].tolist()"
   ]
  },
  {
   "cell_type": "code",
   "execution_count": 115,
   "metadata": {},
   "outputs": [],
   "source": [
    "bnum = basic['num_chem'].tolist()\n",
    "bprice = basic['price'].tolist()"
   ]
  },
  {
   "cell_type": "code",
   "execution_count": 116,
   "metadata": {},
   "outputs": [
    {
     "data": {
      "text/plain": [
       "[Text(0, 0, 'lux'), Text(0, 0, 'basic')]"
      ]
     },
     "execution_count": 116,
     "metadata": {},
     "output_type": "execute_result"
    },
    {
     "data": {
      "image/png": "[encoded data removed]",
      "text/plain": [
       "<Figure size 1152x216 with 1 Axes>"
      ]
     },
     "metadata": {},
     "output_type": "display_data"
    }
   ],
   "source": [
    "fig, ax = plt.subplots(1, figsize=(16, 3))\n",
    "\n",
    "ax.scatter(lnum, np.repeat(0, len(lnum)), s=45)\n",
    "ax.scatter(bnum, np.repeat(1, len(bnum)), s =45)\n",
    "\n",
    "ax.set_yticks([0, 1])\n",
    "ax.set_yticklabels([\"lux\", \"basic\"])"
   ]
  },
  {
   "cell_type": "code",
   "execution_count": 117,
   "metadata": {},
   "outputs": [
    {
     "data": {
      "text/plain": [
       "[Text(0, 0, 'lux'), Text(0, 0, 'basic')]"
      ]
     },
     "execution_count": 117,
     "metadata": {},
     "output_type": "execute_result"
    },
    {
     "data": {
      "image/png": "[encoded data removed]",
      "text/plain": [
       "<Figure size 576x360 with 1 Axes>"
      ]
     },
     "metadata": {},
     "output_type": "display_data"
    }
   ],
   "source": [
    "fig, ax = plt.subplots(1, figsize=(8, 5))\n",
    "ax.boxplot([lnum, bnum])\n",
    "ax.set_xticks([1,2])\n",
    "ax.set_xticklabels([\"lux\", \"basic\"])"
   ]
  },
  {
   "cell_type": "code",
   "execution_count": 118,
   "metadata": {},
   "outputs": [],
   "source": [
    "def welch_test_statistic(sample_1, sample_2):\n",
    "    numerator = np.mean(sample_1) - np.mean(sample_2)\n",
    "    denominator_sq = (np.var(sample_1) / len(sample_1)) + (np.var(sample_2) / len(sample_2))\n",
    "    return numerator / np.sqrt(denominator_sq)"
   ]
  },
  {
   "cell_type": "code",
   "execution_count": 119,
   "metadata": {},
   "outputs": [
    {
     "name": "stdout",
     "output_type": "stream",
     "text": [
      "Welch Test Statistic: -1.23\n"
     ]
    }
   ],
   "source": [
    "test_statistic = welch_test_statistic(lnum, bnum)\n",
    "print(\"Welch Test Statistic: {:2.2f}\".format(test_statistic))"
   ]
  },
  {
   "cell_type": "code",
   "execution_count": 120,
   "metadata": {},
   "outputs": [],
   "source": [
    "def welch_satterhwaithe_df(sample_1, sample_2):\n",
    "    ss1 = len(sample_1)\n",
    "    ss2 = len(sample_2)\n",
    "    df = (\n",
    "        ((np.var(sample_1)/ss1 + np.var(sample_2)/ss2)**(2.0)) / \n",
    "        ((np.var(sample_1)/ss1)**(2.0)/(ss1 - 1) + (np.var(sample_2)/ss2)**(2.0)/(ss2 - 1))\n",
    "    )\n",
    "    return df"
   ]
  },
  {
   "cell_type": "code",
   "execution_count": 121,
   "metadata": {},
   "outputs": [
    {
     "name": "stdout",
     "output_type": "stream",
     "text": [
      "Degrees of Freedom for Welch's Test: 125.99\n"
     ]
    }
   ],
   "source": [
    "df = welch_satterhwaithe_df(lnum, bnum)\n",
    "print(\"Degrees of Freedom for Welch's Test: {:2.2f}\".format(df))"
   ]
  },
  {
   "cell_type": "code",
   "execution_count": 122,
   "metadata": {},
   "outputs": [
    {
     "data": {
      "text/plain": [
       "Text(0.5, 1.0, \"Distribution of Welsh's Test Statistic Under the Null Hypothesis\")"
      ]
     },
     "execution_count": 122,
     "metadata": {},
     "output_type": "execute_result"
    },
    {
     "data": {
      "image/png": "[encoded data removed]",
      "text/plain": [
       "<Figure size 1152x216 with 1 Axes>"
      ]
     },
     "metadata": {},
     "output_type": "display_data"
    }
   ],
   "source": [
    "x = np.linspace(-3, 3, num=250)\n",
    "\n",
    "fig, ax = plt.subplots(1, figsize=(16, 3))\n",
    "chemicals = stats.t(df)\n",
    "ax.plot(x, chemicals.pdf(x), linewidth=2, label=\"Degree of Freedom: {:2.2f}\".format(df))\n",
    "ax.legend()\n",
    "ax.set_title(\"Distribution of Welsh's Test Statistic Under the Null Hypothesis\")"
   ]
  },
  {
   "cell_type": "code",
   "execution_count": 123,
   "metadata": {},
   "outputs": [
    {
     "data": {
      "text/plain": [
       "Text(0.5, 1.0, 'p-value Reigon')"
      ]
     },
     "execution_count": 123,
     "metadata": {},
     "output_type": "execute_result"
    },
    {
     "data": {
      "image/png": "[encoded data removed]",
      "text/plain": [
       "<Figure size 1152x216 with 1 Axes>"
      ]
     },
     "metadata": {},
     "output_type": "display_data"
    }
   ],
   "source": [
    "x = np.linspace(-3, 3, num=250)\n",
    "\n",
    "fig, ax = plt.subplots(1, figsize=(16, 3))\n",
    "chemicals = stats.t(df)\n",
    "ax.plot(x, chemicals.pdf(x), linewidth=2, label=\"Degree of Freedom: {:2.2f}\".format(df))\n",
    "_ = ax.fill_between(x, chemicals.pdf(x), where=(x >= -test_statistic), color=\"red\", alpha=0.25)\n",
    "_ = ax.fill_between(x, chemicals.pdf(x), where=(x <= test_statistic), color=\"red\", alpha=0.25)\n",
    "ax.legend()\n",
    "ax.set_title(\"p-value Reigon\")"
   ]
  },
  {
   "cell_type": "code",
   "execution_count": 124,
   "metadata": {},
   "outputs": [
    {
     "name": "stdout",
     "output_type": "stream",
     "text": [
      "p-value for different average number of chemicals: 0.2207\n"
     ]
    }
   ],
   "source": [
    "p_value = chemicals.cdf(test_statistic) + (1 - chemicals.cdf(-test_statistic))\n",
    "print(\"p-value for different average number of chemicals: {:2.4f}\".format(p_value))"
   ]
  },
  {
   "cell_type": "code",
   "execution_count": null,
   "metadata": {},
   "outputs": [],
   "source": [
    "p value is not less than .05 so I cannot reject null hypothesis"
   ]
  },
  {
   "cell_type": "code",
   "execution_count": null,
   "metadata": {},
   "outputs": [],
   "source": []
  }
 ],
 "metadata": {
  "kernelspec": {
   "display_name": "Python 3",
   "language": "python",
   "name": "python3"
  },
  "language_info": {
   "codemirror_mode": {
    "name": "ipython",
    "version": 3
   },
   "file_extension": ".py",
   "mimetype": "text/x-python",
   "name": "python",
   "nbconvert_exporter": "python",
   "pygments_lexer": "ipython3",
   "version": "3.7.7"
  }
 },
 "nbformat": 4,
 "nbformat_minor": 4
}
