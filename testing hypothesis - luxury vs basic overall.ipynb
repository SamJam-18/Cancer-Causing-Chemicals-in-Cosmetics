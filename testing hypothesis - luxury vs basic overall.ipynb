{
 "cells": [
  {
   "cell_type": "code",
   "execution_count": 1,
   "metadata": {},
   "outputs": [],
   "source": [
    "%matplotlib inline\n",
    "import pandas as pd\n",
    "import numpy as np\n",
    "import scipy as sp\n",
    "import scipy.stats as stats\n",
    "import matplotlib.pyplot as plt\n",
    "import statistics\n",
    "plt.style.use('ggplot')"
   ]
  },
  {
   "cell_type": "code",
   "execution_count": 2,
   "metadata": {},
   "outputs": [
    {
     "data": {
      "text/html": [
       "<div>\n",
       "<style scoped>\n",
       "    .dataframe tbody tr th:only-of-type {\n",
       "        vertical-align: middle;\n",
       "    }\n",
       "\n",
       "    .dataframe tbody tr th {\n",
       "        vertical-align: top;\n",
       "    }\n",
       "\n",
       "    .dataframe thead th {\n",
       "        text-align: right;\n",
       "    }\n",
       "</style>\n",
       "<table border=\"1\" class=\"dataframe\">\n",
       "  <thead>\n",
       "    <tr style=\"text-align: right;\">\n",
       "      <th></th>\n",
       "      <th>Unnamed: 0</th>\n",
       "      <th>name</th>\n",
       "      <th>mfg</th>\n",
       "      <th>num_chem</th>\n",
       "      <th>chem</th>\n",
       "      <th>price</th>\n",
       "      <th>category</th>\n",
       "    </tr>\n",
       "  </thead>\n",
       "  <tbody>\n",
       "    <tr>\n",
       "      <th>0</th>\n",
       "      <td>0</td>\n",
       "      <td>shape tape concealer</td>\n",
       "      <td>tarte</td>\n",
       "      <td>2</td>\n",
       "      <td>['fragrance', 'parfum']</td>\n",
       "      <td>27.0</td>\n",
       "      <td>Face</td>\n",
       "    </tr>\n",
       "    <tr>\n",
       "      <th>1</th>\n",
       "      <td>0</td>\n",
       "      <td>cc+ cream with spf 50+</td>\n",
       "      <td>it cosmetics</td>\n",
       "      <td>1</td>\n",
       "      <td>['steareth']</td>\n",
       "      <td>39.5</td>\n",
       "      <td>Face</td>\n",
       "    </tr>\n",
       "    <tr>\n",
       "      <th>2</th>\n",
       "      <td>0</td>\n",
       "      <td>double wear stay-in-place makeup</td>\n",
       "      <td>estée lauder</td>\n",
       "      <td>1</td>\n",
       "      <td>['laureth']</td>\n",
       "      <td>43.0</td>\n",
       "      <td>Face</td>\n",
       "    </tr>\n",
       "    <tr>\n",
       "      <th>3</th>\n",
       "      <td>0</td>\n",
       "      <td>born this way undetectable medium-to-full cove...</td>\n",
       "      <td>too faced</td>\n",
       "      <td>0</td>\n",
       "      <td>[]</td>\n",
       "      <td>39.0</td>\n",
       "      <td>Face</td>\n",
       "    </tr>\n",
       "    <tr>\n",
       "      <th>4</th>\n",
       "      <td>0</td>\n",
       "      <td>translucent loose setting powder</td>\n",
       "      <td>laura mercier</td>\n",
       "      <td>5</td>\n",
       "      <td>['methylparaben', 'propylparaben', 'ethylparab...</td>\n",
       "      <td>39.0</td>\n",
       "      <td>Face</td>\n",
       "    </tr>\n",
       "    <tr>\n",
       "      <th>...</th>\n",
       "      <td>...</td>\n",
       "      <td>...</td>\n",
       "      <td>...</td>\n",
       "      <td>...</td>\n",
       "      <td>...</td>\n",
       "      <td>...</td>\n",
       "      <td>...</td>\n",
       "    </tr>\n",
       "    <tr>\n",
       "      <th>6977</th>\n",
       "      <td>0</td>\n",
       "      <td>clear lash adhesive</td>\n",
       "      <td>house of lashes</td>\n",
       "      <td>0</td>\n",
       "      <td>[]</td>\n",
       "      <td>8.0</td>\n",
       "      <td>Eyes</td>\n",
       "    </tr>\n",
       "    <tr>\n",
       "      <th>6978</th>\n",
       "      <td>0</td>\n",
       "      <td>miami lights glitter palette</td>\n",
       "      <td>nabla</td>\n",
       "      <td>0</td>\n",
       "      <td>[]</td>\n",
       "      <td>25.0</td>\n",
       "      <td>By Category</td>\n",
       "    </tr>\n",
       "    <tr>\n",
       "      <th>6979</th>\n",
       "      <td>0</td>\n",
       "      <td>lash freak volumizing &amp; lengthening mascara</td>\n",
       "      <td>urban decay cosmetics</td>\n",
       "      <td>1</td>\n",
       "      <td>['steareth']</td>\n",
       "      <td>25.0</td>\n",
       "      <td>Eyes</td>\n",
       "    </tr>\n",
       "    <tr>\n",
       "      <th>6980</th>\n",
       "      <td>0</td>\n",
       "      <td>classic brush tip liner</td>\n",
       "      <td>ulta</td>\n",
       "      <td>0</td>\n",
       "      <td>[]</td>\n",
       "      <td>9.0</td>\n",
       "      <td>ULTA Collection</td>\n",
       "    </tr>\n",
       "    <tr>\n",
       "      <th>6981</th>\n",
       "      <td>0</td>\n",
       "      <td>forever flawless ice eyeshadow palette</td>\n",
       "      <td>makeup revolution</td>\n",
       "      <td>0</td>\n",
       "      <td>[]</td>\n",
       "      <td>15.0</td>\n",
       "      <td>Eyes</td>\n",
       "    </tr>\n",
       "  </tbody>\n",
       "</table>\n",
       "<p>6982 rows × 7 columns</p>\n",
       "</div>"
      ],
      "text/plain": [
       "      Unnamed: 0                                               name  \\\n",
       "0              0                               shape tape concealer   \n",
       "1              0                             cc+ cream with spf 50+   \n",
       "2              0                   double wear stay-in-place makeup   \n",
       "3              0  born this way undetectable medium-to-full cove...   \n",
       "4              0                   translucent loose setting powder   \n",
       "...          ...                                                ...   \n",
       "6977           0                                clear lash adhesive   \n",
       "6978           0                       miami lights glitter palette   \n",
       "6979           0        lash freak volumizing & lengthening mascara   \n",
       "6980           0                            classic brush tip liner   \n",
       "6981           0             forever flawless ice eyeshadow palette   \n",
       "\n",
       "                        mfg  num_chem  \\\n",
       "0                     tarte         2   \n",
       "1              it cosmetics         1   \n",
       "2              estée lauder         1   \n",
       "3                 too faced         0   \n",
       "4             laura mercier         5   \n",
       "...                     ...       ...   \n",
       "6977        house of lashes         0   \n",
       "6978                  nabla         0   \n",
       "6979  urban decay cosmetics         1   \n",
       "6980                   ulta         0   \n",
       "6981      makeup revolution         0   \n",
       "\n",
       "                                                   chem  price  \\\n",
       "0                               ['fragrance', 'parfum']   27.0   \n",
       "1                                          ['steareth']   39.5   \n",
       "2                                           ['laureth']   43.0   \n",
       "3                                                    []   39.0   \n",
       "4     ['methylparaben', 'propylparaben', 'ethylparab...   39.0   \n",
       "...                                                 ...    ...   \n",
       "6977                                                 []    8.0   \n",
       "6978                                                 []   25.0   \n",
       "6979                                       ['steareth']   25.0   \n",
       "6980                                                 []    9.0   \n",
       "6981                                                 []   15.0   \n",
       "\n",
       "             category  \n",
       "0                Face  \n",
       "1                Face  \n",
       "2                Face  \n",
       "3                Face  \n",
       "4                Face  \n",
       "...               ...  \n",
       "6977             Eyes  \n",
       "6978      By Category  \n",
       "6979             Eyes  \n",
       "6980  ULTA Collection  \n",
       "6981             Eyes  \n",
       "\n",
       "[6982 rows x 7 columns]"
      ]
     },
     "execution_count": 2,
     "metadata": {},
     "output_type": "execute_result"
    }
   ],
   "source": [
    "df = pd.read_csv('prod_with_chem.csv')\n",
    "df"
   ]
  },
  {
   "cell_type": "markdown",
   "metadata": {},
   "source": [
    "# hypothesis testing - chems per brand\n",
    "### luxury brands will have less cancer causing chemicals per product than basic\n",
    "#### Welsh T-test"
   ]
  },
  {
   "cell_type": "code",
   "execution_count": 3,
   "metadata": {},
   "outputs": [
    {
     "data": {
      "text/html": [
       "<div>\n",
       "<style scoped>\n",
       "    .dataframe tbody tr th:only-of-type {\n",
       "        vertical-align: middle;\n",
       "    }\n",
       "\n",
       "    .dataframe tbody tr th {\n",
       "        vertical-align: top;\n",
       "    }\n",
       "\n",
       "    .dataframe thead th {\n",
       "        text-align: right;\n",
       "    }\n",
       "</style>\n",
       "<table border=\"1\" class=\"dataframe\">\n",
       "  <thead>\n",
       "    <tr style=\"text-align: right;\">\n",
       "      <th></th>\n",
       "      <th>num_chem</th>\n",
       "      <th>price</th>\n",
       "    </tr>\n",
       "    <tr>\n",
       "      <th>mfg</th>\n",
       "      <th></th>\n",
       "      <th></th>\n",
       "    </tr>\n",
       "  </thead>\n",
       "  <tbody>\n",
       "    <tr>\n",
       "      <th>acure</th>\n",
       "      <td>0.103448</td>\n",
       "      <td>16.714138</td>\n",
       "    </tr>\n",
       "    <tr>\n",
       "      <th>ahava</th>\n",
       "      <td>2.029412</td>\n",
       "      <td>58.794118</td>\n",
       "    </tr>\n",
       "    <tr>\n",
       "      <th>almay</th>\n",
       "      <td>1.772727</td>\n",
       "      <td>9.512727</td>\n",
       "    </tr>\n",
       "    <tr>\n",
       "      <th>alpha skin care</th>\n",
       "      <td>2.571429</td>\n",
       "      <td>16.275714</td>\n",
       "    </tr>\n",
       "    <tr>\n",
       "      <th>amazing cosmetics</th>\n",
       "      <td>0.166667</td>\n",
       "      <td>31.333333</td>\n",
       "    </tr>\n",
       "    <tr>\n",
       "      <th>...</th>\n",
       "      <td>...</td>\n",
       "      <td>...</td>\n",
       "    </tr>\n",
       "    <tr>\n",
       "      <th>yourgoodskin</th>\n",
       "      <td>1.600000</td>\n",
       "      <td>10.790000</td>\n",
       "    </tr>\n",
       "    <tr>\n",
       "      <th>yuni</th>\n",
       "      <td>1.000000</td>\n",
       "      <td>23.833333</td>\n",
       "    </tr>\n",
       "    <tr>\n",
       "      <th>zilch</th>\n",
       "      <td>0.000000</td>\n",
       "      <td>139.000000</td>\n",
       "    </tr>\n",
       "    <tr>\n",
       "      <th>zitsticka</th>\n",
       "      <td>0.000000</td>\n",
       "      <td>26.333333</td>\n",
       "    </tr>\n",
       "    <tr>\n",
       "      <th>zoeva</th>\n",
       "      <td>0.244444</td>\n",
       "      <td>30.040000</td>\n",
       "    </tr>\n",
       "  </tbody>\n",
       "</table>\n",
       "<p>302 rows × 2 columns</p>\n",
       "</div>"
      ],
      "text/plain": [
       "                   num_chem       price\n",
       "mfg                                    \n",
       "acure              0.103448   16.714138\n",
       "ahava              2.029412   58.794118\n",
       "almay              1.772727    9.512727\n",
       "alpha skin care    2.571429   16.275714\n",
       "amazing cosmetics  0.166667   31.333333\n",
       "...                     ...         ...\n",
       "yourgoodskin       1.600000   10.790000\n",
       "yuni               1.000000   23.833333\n",
       "zilch              0.000000  139.000000\n",
       "zitsticka          0.000000   26.333333\n",
       "zoeva              0.244444   30.040000\n",
       "\n",
       "[302 rows x 2 columns]"
      ]
     },
     "execution_count": 3,
     "metadata": {},
     "output_type": "execute_result"
    }
   ],
   "source": [
    "df = df.groupby('mfg').mean()\n",
    "df = df.drop(['Unnamed: 0'], axis = 1)\n",
    "df"
   ]
  },
  {
   "cell_type": "code",
   "execution_count": 4,
   "metadata": {},
   "outputs": [
    {
     "name": "stdout",
     "output_type": "stream",
     "text": [
      "25.140063213612073\n"
     ]
    }
   ],
   "source": [
    "x = []\n",
    "\n",
    "for num in range(len(df['num_chem'])):\n",
    "    x.append(df['price'].iloc[num])\n",
    "\n",
    "print (statistics.mean(x))"
   ]
  },
  {
   "cell_type": "code",
   "execution_count": 5,
   "metadata": {},
   "outputs": [],
   "source": [
    "basic = pd.DataFrame()\n",
    "luxury = pd.DataFrame()"
   ]
  },
  {
   "cell_type": "code",
   "execution_count": 6,
   "metadata": {},
   "outputs": [],
   "source": [
    "for x in range(len(df['price'])):\n",
    "    if df['price'].iloc[x] >= 25.140:\n",
    "        luxury = luxury.append(df.iloc[x])\n",
    "    else:\n",
    "        basic = basic.append(df.iloc[x])\n",
    "        "
   ]
  },
  {
   "cell_type": "code",
   "execution_count": 7,
   "metadata": {},
   "outputs": [
    {
     "data": {
      "text/html": [
       "<div>\n",
       "<style scoped>\n",
       "    .dataframe tbody tr th:only-of-type {\n",
       "        vertical-align: middle;\n",
       "    }\n",
       "\n",
       "    .dataframe tbody tr th {\n",
       "        vertical-align: top;\n",
       "    }\n",
       "\n",
       "    .dataframe thead th {\n",
       "        text-align: right;\n",
       "    }\n",
       "</style>\n",
       "<table border=\"1\" class=\"dataframe\">\n",
       "  <thead>\n",
       "    <tr style=\"text-align: right;\">\n",
       "      <th></th>\n",
       "      <th>num_chem</th>\n",
       "      <th>price</th>\n",
       "    </tr>\n",
       "  </thead>\n",
       "  <tbody>\n",
       "    <tr>\n",
       "      <th>ahava</th>\n",
       "      <td>2.029412</td>\n",
       "      <td>58.794118</td>\n",
       "    </tr>\n",
       "    <tr>\n",
       "      <th>amazing cosmetics</th>\n",
       "      <td>0.166667</td>\n",
       "      <td>31.333333</td>\n",
       "    </tr>\n",
       "    <tr>\n",
       "      <th>anastasia beverly hills</th>\n",
       "      <td>1.274510</td>\n",
       "      <td>27.019020</td>\n",
       "    </tr>\n",
       "    <tr>\n",
       "      <th>arcona</th>\n",
       "      <td>0.416667</td>\n",
       "      <td>59.916667</td>\n",
       "    </tr>\n",
       "    <tr>\n",
       "      <th>au naturale</th>\n",
       "      <td>0.333333</td>\n",
       "      <td>29.444444</td>\n",
       "    </tr>\n",
       "    <tr>\n",
       "      <th>...</th>\n",
       "      <td>...</td>\n",
       "      <td>...</td>\n",
       "    </tr>\n",
       "    <tr>\n",
       "      <th>vdl</th>\n",
       "      <td>1.923077</td>\n",
       "      <td>29.692308</td>\n",
       "    </tr>\n",
       "    <tr>\n",
       "      <th>vita liberata</th>\n",
       "      <td>0.166667</td>\n",
       "      <td>40.666667</td>\n",
       "    </tr>\n",
       "    <tr>\n",
       "      <th>zilch</th>\n",
       "      <td>0.000000</td>\n",
       "      <td>139.000000</td>\n",
       "    </tr>\n",
       "    <tr>\n",
       "      <th>zitsticka</th>\n",
       "      <td>0.000000</td>\n",
       "      <td>26.333333</td>\n",
       "    </tr>\n",
       "    <tr>\n",
       "      <th>zoeva</th>\n",
       "      <td>0.244444</td>\n",
       "      <td>30.040000</td>\n",
       "    </tr>\n",
       "  </tbody>\n",
       "</table>\n",
       "<p>127 rows × 2 columns</p>\n",
       "</div>"
      ],
      "text/plain": [
       "                         num_chem       price\n",
       "ahava                    2.029412   58.794118\n",
       "amazing cosmetics        0.166667   31.333333\n",
       "anastasia beverly hills  1.274510   27.019020\n",
       "arcona                   0.416667   59.916667\n",
       "au naturale              0.333333   29.444444\n",
       "...                           ...         ...\n",
       "vdl                      1.923077   29.692308\n",
       "vita liberata            0.166667   40.666667\n",
       "zilch                    0.000000  139.000000\n",
       "zitsticka                0.000000   26.333333\n",
       "zoeva                    0.244444   30.040000\n",
       "\n",
       "[127 rows x 2 columns]"
      ]
     },
     "execution_count": 7,
     "metadata": {},
     "output_type": "execute_result"
    }
   ],
   "source": [
    "luxury"
   ]
  },
  {
   "cell_type": "code",
   "execution_count": 8,
   "metadata": {},
   "outputs": [
    {
     "data": {
      "text/html": [
       "<div>\n",
       "<style scoped>\n",
       "    .dataframe tbody tr th:only-of-type {\n",
       "        vertical-align: middle;\n",
       "    }\n",
       "\n",
       "    .dataframe tbody tr th {\n",
       "        vertical-align: top;\n",
       "    }\n",
       "\n",
       "    .dataframe thead th {\n",
       "        text-align: right;\n",
       "    }\n",
       "</style>\n",
       "<table border=\"1\" class=\"dataframe\">\n",
       "  <thead>\n",
       "    <tr style=\"text-align: right;\">\n",
       "      <th></th>\n",
       "      <th>num_chem</th>\n",
       "      <th>price</th>\n",
       "    </tr>\n",
       "  </thead>\n",
       "  <tbody>\n",
       "    <tr>\n",
       "      <th>acure</th>\n",
       "      <td>0.103448</td>\n",
       "      <td>16.714138</td>\n",
       "    </tr>\n",
       "    <tr>\n",
       "      <th>almay</th>\n",
       "      <td>1.772727</td>\n",
       "      <td>9.512727</td>\n",
       "    </tr>\n",
       "    <tr>\n",
       "      <th>alpha skin care</th>\n",
       "      <td>2.571429</td>\n",
       "      <td>16.275714</td>\n",
       "    </tr>\n",
       "    <tr>\n",
       "      <th>american crew</th>\n",
       "      <td>2.000000</td>\n",
       "      <td>14.950000</td>\n",
       "    </tr>\n",
       "    <tr>\n",
       "      <th>ancient healing clay</th>\n",
       "      <td>0.000000</td>\n",
       "      <td>9.990000</td>\n",
       "    </tr>\n",
       "    <tr>\n",
       "      <th>...</th>\n",
       "      <td>...</td>\n",
       "      <td>...</td>\n",
       "    </tr>\n",
       "    <tr>\n",
       "      <th>wish formula</th>\n",
       "      <td>0.000000</td>\n",
       "      <td>15.970000</td>\n",
       "    </tr>\n",
       "    <tr>\n",
       "      <th>wunder2</th>\n",
       "      <td>0.823529</td>\n",
       "      <td>17.967647</td>\n",
       "    </tr>\n",
       "    <tr>\n",
       "      <th>yes to</th>\n",
       "      <td>1.842105</td>\n",
       "      <td>10.042632</td>\n",
       "    </tr>\n",
       "    <tr>\n",
       "      <th>yourgoodskin</th>\n",
       "      <td>1.600000</td>\n",
       "      <td>10.790000</td>\n",
       "    </tr>\n",
       "    <tr>\n",
       "      <th>yuni</th>\n",
       "      <td>1.000000</td>\n",
       "      <td>23.833333</td>\n",
       "    </tr>\n",
       "  </tbody>\n",
       "</table>\n",
       "<p>175 rows × 2 columns</p>\n",
       "</div>"
      ],
      "text/plain": [
       "                      num_chem      price\n",
       "acure                 0.103448  16.714138\n",
       "almay                 1.772727   9.512727\n",
       "alpha skin care       2.571429  16.275714\n",
       "american crew         2.000000  14.950000\n",
       "ancient healing clay  0.000000   9.990000\n",
       "...                        ...        ...\n",
       "wish formula          0.000000  15.970000\n",
       "wunder2               0.823529  17.967647\n",
       "yes to                1.842105  10.042632\n",
       "yourgoodskin          1.600000  10.790000\n",
       "yuni                  1.000000  23.833333\n",
       "\n",
       "[175 rows x 2 columns]"
      ]
     },
     "execution_count": 8,
     "metadata": {},
     "output_type": "execute_result"
    }
   ],
   "source": [
    "basic"
   ]
  },
  {
   "cell_type": "code",
   "execution_count": 9,
   "metadata": {},
   "outputs": [],
   "source": [
    "lnum = luxury['num_chem'].tolist()\n",
    "lprice = luxury['price'].tolist()"
   ]
  },
  {
   "cell_type": "code",
   "execution_count": 10,
   "metadata": {},
   "outputs": [],
   "source": [
    "bnum = basic['num_chem'].tolist()\n",
    "bprice = basic['price'].tolist()"
   ]
  },
  {
   "cell_type": "code",
   "execution_count": 11,
   "metadata": {},
   "outputs": [
    {
     "data": {
      "text/plain": [
       "[Text(0, 0, 'lux'), Text(0, 0, 'basic')]"
      ]
     },
     "execution_count": 11,
     "metadata": {},
     "output_type": "execute_result"
    },
    {
     "data": {
      "image/png": "[encoded data removed]",
      "text/plain": [
       "<Figure size 1152x216 with 1 Axes>"
      ]
     },
     "metadata": {},
     "output_type": "display_data"
    }
   ],
   "source": [
    "fig, ax = plt.subplots(1, figsize=(16, 3))\n",
    "\n",
    "ax.scatter(lnum, np.repeat(0, len(lnum)), s=45)\n",
    "ax.scatter(bnum, np.repeat(1, len(bnum)), s =45)\n",
    "\n",
    "ax.set_yticks([0, 1])\n",
    "ax.set_yticklabels([\"lux\", \"basic\"])"
   ]
  },
  {
   "cell_type": "code",
   "execution_count": 12,
   "metadata": {},
   "outputs": [
    {
     "data": {
      "text/plain": [
       "[Text(0, 0, 'lux'), Text(0, 0, 'basic')]"
      ]
     },
     "execution_count": 12,
     "metadata": {},
     "output_type": "execute_result"
    },
    {
     "data": {
      "image/png": "[encoded data removed]",
      "text/plain": [
       "<Figure size 576x360 with 1 Axes>"
      ]
     },
     "metadata": {},
     "output_type": "display_data"
    }
   ],
   "source": [
    "fig, ax = plt.subplots(1, figsize=(8, 5))\n",
    "ax.boxplot([lnum, bnum])\n",
    "ax.set_xticks([1,2])\n",
    "ax.set_xticklabels([\"lux\", \"basic\"])"
   ]
  },
  {
   "cell_type": "code",
   "execution_count": 13,
   "metadata": {},
   "outputs": [],
   "source": [
    "def welch_test_statistic(sample_1, sample_2):\n",
    "    numerator = np.mean(sample_1) - np.mean(sample_2)\n",
    "    denominator_sq = (np.var(sample_1) / len(sample_1)) + (np.var(sample_2) / len(sample_2))\n",
    "    return numerator / np.sqrt(denominator_sq)"
   ]
  },
  {
   "cell_type": "code",
   "execution_count": 14,
   "metadata": {},
   "outputs": [
    {
     "name": "stdout",
     "output_type": "stream",
     "text": [
      "Welch Test Statistic: -1.15\n"
     ]
    }
   ],
   "source": [
    "test_statistic = welch_test_statistic(lnum, bnum)\n",
    "print(\"Welch Test Statistic: {:2.2f}\".format(test_statistic))"
   ]
  },
  {
   "cell_type": "code",
   "execution_count": 15,
   "metadata": {},
   "outputs": [],
   "source": [
    "def welch_satterhwaithe_df(sample_1, sample_2):\n",
    "    ss1 = len(sample_1)\n",
    "    ss2 = len(sample_2)\n",
    "    df = (\n",
    "        ((np.var(sample_1)/ss1 + np.var(sample_2)/ss2)**(2.0)) / \n",
    "        ((np.var(sample_1)/ss1)**(2.0)/(ss1 - 1) + (np.var(sample_2)/ss2)**(2.0)/(ss2 - 1))\n",
    "    )\n",
    "    return df"
   ]
  },
  {
   "cell_type": "code",
   "execution_count": 16,
   "metadata": {},
   "outputs": [
    {
     "name": "stdout",
     "output_type": "stream",
     "text": [
      "Degrees of Freedom for Welch's Test: 289.84\n"
     ]
    }
   ],
   "source": [
    "df = welch_satterhwaithe_df(lnum, bnum)\n",
    "print(\"Degrees of Freedom for Welch's Test: {:2.2f}\".format(df))"
   ]
  },
  {
   "cell_type": "code",
   "execution_count": 17,
   "metadata": {},
   "outputs": [
    {
     "data": {
      "text/plain": [
       "Text(0.5, 1.0, \"Distribution of Welsh's Test Statistic Under the Null Hypothesis\")"
      ]
     },
     "execution_count": 17,
     "metadata": {},
     "output_type": "execute_result"
    },
    {
     "data": {
      "image/png": "[encoded data removed]",
      "text/plain": [
       "<Figure size 1152x216 with 1 Axes>"
      ]
     },
     "metadata": {},
     "output_type": "display_data"
    }
   ],
   "source": [
    "x = np.linspace(-3, 3, num=250)\n",
    "\n",
    "fig, ax = plt.subplots(1, figsize=(16, 3))\n",
    "chemicals = stats.t(df)\n",
    "ax.plot(x, chemicals.pdf(x), linewidth=2, label=\"Degree of Freedom: {:2.2f}\".format(df))\n",
    "ax.legend()\n",
    "ax.set_title(\"Distribution of Welsh's Test Statistic Under the Null Hypothesis\")"
   ]
  },
  {
   "cell_type": "code",
   "execution_count": 18,
   "metadata": {},
   "outputs": [
    {
     "data": {
      "text/plain": [
       "Text(0.5, 1.0, 'p-value Reigon')"
      ]
     },
     "execution_count": 18,
     "metadata": {},
     "output_type": "execute_result"
    },
    {
     "data": {
      "image/png": "[encoded data removed]",
      "text/plain": [
       "<Figure size 1152x216 with 1 Axes>"
      ]
     },
     "metadata": {},
     "output_type": "display_data"
    }
   ],
   "source": [
    "x = np.linspace(-3, 3, num=250)\n",
    "\n",
    "fig, ax = plt.subplots(1, figsize=(16, 3))\n",
    "chemicals = stats.t(df)\n",
    "ax.plot(x, chemicals.pdf(x), linewidth=2, label=\"Degree of Freedom: {:2.2f}\".format(df))\n",
    "_ = ax.fill_between(x, chemicals.pdf(x), where=(x >= -test_statistic), color=\"red\", alpha=0.25)\n",
    "_ = ax.fill_between(x, chemicals.pdf(x), where=(x <= test_statistic), color=\"red\", alpha=0.25)\n",
    "ax.legend()\n",
    "ax.set_title(\"p-value Reigon\")"
   ]
  },
  {
   "cell_type": "code",
   "execution_count": 19,
   "metadata": {},
   "outputs": [
    {
     "name": "stdout",
     "output_type": "stream",
     "text": [
      "p-value for different average number of chemicals: 0.2512\n"
     ]
    }
   ],
   "source": [
    "p_value = chemicals.cdf(test_statistic) + (1 - chemicals.cdf(-test_statistic))\n",
    "print(\"p-value for different average number of chemicals: {:2.4f}\".format(p_value))"
   ]
  },
  {
   "cell_type": "markdown",
   "metadata": {},
   "source": [
    "p value is not less than .1 so I cannot reject the null hypothesis"
   ]
  },
  {
   "cell_type": "code",
   "execution_count": 20,
   "metadata": {},
   "outputs": [
    {
     "ename": "SyntaxError",
     "evalue": "invalid syntax (<ipython-input-20-bef5d9074f5d>, line 1)",
     "output_type": "error",
     "traceback": [
      "\u001b[0;36m  File \u001b[0;32m\"<ipython-input-20-bef5d9074f5d>\"\u001b[0;36m, line \u001b[0;32m1\u001b[0m\n\u001b[0;31m    sats.\u001b[0m\n\u001b[0m         ^\u001b[0m\n\u001b[0;31mSyntaxError\u001b[0m\u001b[0;31m:\u001b[0m invalid syntax\n"
     ]
    }
   ],
   "source": [
    "sats."
   ]
  },
  {
   "cell_type": "markdown",
   "metadata": {},
   "source": [
    "#### Mann-Whitney test"
   ]
  },
  {
   "cell_type": "code",
   "execution_count": 21,
   "metadata": {},
   "outputs": [
    {
     "data": {
      "text/plain": [
       "[Text(0, 0, 'lux'), Text(0, 0, 'basic')]"
      ]
     },
     "execution_count": 21,
     "metadata": {},
     "output_type": "execute_result"
    },
    {
     "data": {
      "image/png": "[encoded data removed]",
      "text/plain": [
       "<Figure size 1152x216 with 1 Axes>"
      ]
     },
     "metadata": {},
     "output_type": "display_data"
    }
   ],
   "source": [
    "fig, ax = plt.subplots(1, figsize=(16, 3))\n",
    "\n",
    "ax.scatter(lnum, np.repeat(0, len(lnum)) + np.random.normal(0, 0.1, len(lnum)), s=45)\n",
    "ax.scatter(bnum, np.repeat(1, len(bnum)) + np.random.normal(0, 0.1, len(bnum)), s=45)\n",
    "ax.set_yticks([0, 1])\n",
    "ax.set_yticklabels([\"lux\", \"basic\"])"
   ]
  },
  {
   "cell_type": "code",
   "execution_count": 22,
   "metadata": {},
   "outputs": [],
   "source": [
    "def count_winning_pairs(sample_1, sample_2):\n",
    "    sample_1, sample_2 = np.array(sample_1), np.array(sample_2)\n",
    "    n_total_wins = 0\n",
    "    for x in sample_1:\n",
    "        n_wins = np.sum(x > sample_2) + 0.5*np.sum(x == sample_2)\n",
    "        n_total_wins += n_wins\n",
    "    return n_total_wins"
   ]
  },
  {
   "cell_type": "code",
   "execution_count": 23,
   "metadata": {},
   "outputs": [
    {
     "name": "stdout",
     "output_type": "stream",
     "text": [
      "Number of basic having higher chemicals: 11865.5\n",
      "Number of lux having higher chemicals: 10359.5\n"
     ]
    }
   ],
   "source": [
    "basic_wins = count_winning_pairs(bnum, lnum)\n",
    "lux_wins = count_winning_pairs(lnum, bnum)\n",
    "print(\"Number of basic having higher chemicals: {}\".format(basic_wins))\n",
    "print(\"Number of lux having higher chemicals: {}\".format(lux_wins))"
   ]
  },
  {
   "cell_type": "code",
   "execution_count": 24,
   "metadata": {},
   "outputs": [
    {
     "name": "stdout",
     "output_type": "stream",
     "text": [
      "MannwhitneyuResult(statistic=10359.5, pvalue=0.8429788617390415)\n"
     ]
    }
   ],
   "source": [
    "res = stats.mannwhitneyu(lnum, bnum, alternative=\"greater\")\n",
    "print(res)"
   ]
  },
  {
   "cell_type": "code",
   "execution_count": null,
   "metadata": {},
   "outputs": [],
   "source": []
  },
  {
   "cell_type": "code",
   "execution_count": null,
   "metadata": {},
   "outputs": [],
   "source": []
  },
  {
   "cell_type": "code",
   "execution_count": null,
   "metadata": {},
   "outputs": [],
   "source": []
  }
 ],
 "metadata": {
  "kernelspec": {
   "display_name": "Python 3",
   "language": "python",
   "name": "python3"
  },
  "language_info": {
   "codemirror_mode": {
    "name": "ipython",
    "version": 3
   },
   "file_extension": ".py",
   "mimetype": "text/x-python",
   "name": "python",
   "nbconvert_exporter": "python",
   "pygments_lexer": "ipython3",
   "version": "3.7.7"
  }
 },
 "nbformat": 4,
 "nbformat_minor": 4
}
