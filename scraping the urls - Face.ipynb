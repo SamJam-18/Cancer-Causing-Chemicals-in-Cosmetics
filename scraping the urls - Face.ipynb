{
 "cells": [
  {
   "cell_type": "code",
   "execution_count": 1,
   "metadata": {},
   "outputs": [],
   "source": [
    "import warnings\n",
    "warnings.filterwarnings('ignore')"
   ]
  },
  {
   "cell_type": "code",
   "execution_count": 136,
   "metadata": {},
   "outputs": [],
   "source": [
    "from pymongo import MongoClient\n",
    "import pprint\n",
    "\n",
    "import copy\n",
    "import pandas as pd\n",
    "\n",
    "# Requests sends and recieves HTTP requests.\n",
    "import requests\n",
    "\n",
    "# Beautiful Soup parses HTML documents in python.\n",
    "from bs4 import BeautifulSoup\n",
    "\n",
    "import re\n",
    "\n",
    "import time"
   ]
  },
  {
   "cell_type": "code",
   "execution_count": 137,
   "metadata": {},
   "outputs": [],
   "source": [
    "def request(website):\n",
    "    r = requests.get(website)\n",
    "    client = MongoClient('localhost', 27017)\n",
    "    db = client.metroid\n",
    "    pages = db.pages\n",
    "    pages.insert_one({'html': r.content})\n",
    "    soup = (BeautifulSoup(r.content, \"html.parser\"))\n",
    "    return soup\n"
   ]
  },
  {
   "cell_type": "code",
   "execution_count": 140,
   "metadata": {},
   "outputs": [],
   "source": [
    "page_list =[]\n",
    "def get_url_pgs (ran, type):\n",
    "    for i in range (0, ran, 96):\n",
    "        url = 'https://www.ulta.com/makeup-' + type + '?N=26y3&No='+ str(i) +'&Nrpp=96'\n",
    "        page_list.append(url)\n"
   ]
  },
  {
   "cell_type": "code",
   "execution_count": 141,
   "metadata": {},
   "outputs": [],
   "source": [
    "\n",
    "face = get_url_pgs(1983, 'eyes')\n"
   ]
  },
  {
   "cell_type": "code",
   "execution_count": 142,
   "metadata": {
    "scrolled": true
   },
   "outputs": [
    {
     "data": {
      "text/plain": [
       "['https://www.ulta.com/makeup-eyes?N=26y3&No=0&Nrpp=96',\n",
       " 'https://www.ulta.com/makeup-eyes?N=26y3&No=96&Nrpp=96',\n",
       " 'https://www.ulta.com/makeup-eyes?N=26y3&No=192&Nrpp=96',\n",
       " 'https://www.ulta.com/makeup-eyes?N=26y3&No=288&Nrpp=96',\n",
       " 'https://www.ulta.com/makeup-eyes?N=26y3&No=384&Nrpp=96',\n",
       " 'https://www.ulta.com/makeup-eyes?N=26y3&No=480&Nrpp=96',\n",
       " 'https://www.ulta.com/makeup-eyes?N=26y3&No=576&Nrpp=96',\n",
       " 'https://www.ulta.com/makeup-eyes?N=26y3&No=672&Nrpp=96',\n",
       " 'https://www.ulta.com/makeup-eyes?N=26y3&No=768&Nrpp=96',\n",
       " 'https://www.ulta.com/makeup-eyes?N=26y3&No=864&Nrpp=96',\n",
       " 'https://www.ulta.com/makeup-eyes?N=26y3&No=960&Nrpp=96',\n",
       " 'https://www.ulta.com/makeup-eyes?N=26y3&No=1056&Nrpp=96',\n",
       " 'https://www.ulta.com/makeup-eyes?N=26y3&No=1152&Nrpp=96',\n",
       " 'https://www.ulta.com/makeup-eyes?N=26y3&No=1248&Nrpp=96',\n",
       " 'https://www.ulta.com/makeup-eyes?N=26y3&No=1344&Nrpp=96',\n",
       " 'https://www.ulta.com/makeup-eyes?N=26y3&No=1440&Nrpp=96',\n",
       " 'https://www.ulta.com/makeup-eyes?N=26y3&No=1536&Nrpp=96',\n",
       " 'https://www.ulta.com/makeup-eyes?N=26y3&No=1632&Nrpp=96',\n",
       " 'https://www.ulta.com/makeup-eyes?N=26y3&No=1728&Nrpp=96',\n",
       " 'https://www.ulta.com/makeup-eyes?N=26y3&No=1824&Nrpp=96',\n",
       " 'https://www.ulta.com/makeup-eyes?N=26y3&No=1920&Nrpp=96']"
      ]
     },
     "execution_count": 142,
     "metadata": {},
     "output_type": "execute_result"
    }
   ],
   "source": [
    "page_list"
   ]
  },
  {
   "cell_type": "code",
   "execution_count": 149,
   "metadata": {},
   "outputs": [],
   "source": [
    "lst_url = []\n",
    "def get_url_pr(lst_pg):\n",
    "    for web in lst_pg:\n",
    "            page = request(web)\n",
    "            data = page.findAll(class_ = 'prod-desc')\n",
    "            for div in data:\n",
    "                links = div.findAll('a')\n",
    "                for a in links:\n",
    "                    lst_url.append(\"http://www.ulta.com\" + a['href'])\n",
    "    time.sleep(5)"
   ]
  },
  {
   "cell_type": "code",
   "execution_count": 146,
   "metadata": {},
   "outputs": [],
   "source": [
    "get_url_pr(page_list)"
   ]
  },
  {
   "cell_type": "code",
   "execution_count": 147,
   "metadata": {},
   "outputs": [],
   "source": [
    "lst_url = list(dict.fromkeys(lst_url))\n"
   ]
  },
  {
   "cell_type": "code",
   "execution_count": 148,
   "metadata": {},
   "outputs": [
    {
     "data": {
      "text/plain": [
       "1728"
      ]
     },
     "execution_count": 148,
     "metadata": {},
     "output_type": "execute_result"
    }
   ],
   "source": [
    "len(lst_url)"
   ]
  },
  {
   "cell_type": "code",
   "execution_count": 126,
   "metadata": {},
   "outputs": [],
   "source": [
    "f=open('face.txt','w')\n",
    "for ele in lst_url:\n",
    "    f.write(ele +'\\n')"
   ]
  },
  {
   "cell_type": "code",
   "execution_count": null,
   "metadata": {},
   "outputs": [],
   "source": []
  },
  {
   "cell_type": "code",
   "execution_count": null,
   "metadata": {},
   "outputs": [],
   "source": []
  },
  {
   "cell_type": "code",
   "execution_count": null,
   "metadata": {},
   "outputs": [],
   "source": []
  }
 ],
 "metadata": {
  "kernelspec": {
   "display_name": "Python 3",
   "language": "python",
   "name": "python3"
  },
  "language_info": {
   "codemirror_mode": {
    "name": "ipython",
    "version": 3
   },
   "file_extension": ".py",
   "mimetype": "text/x-python",
   "name": "python",
   "nbconvert_exporter": "python",
   "pygments_lexer": "ipython3",
   "version": "3.7.7"
  }
 },
 "nbformat": 4,
 "nbformat_minor": 4
}
